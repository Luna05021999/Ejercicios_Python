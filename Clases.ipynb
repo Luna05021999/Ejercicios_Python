{
 "cells": [
  {
   "cell_type": "markdown",
   "metadata": {},
   "source": [
    "# INTRODUCCIÓN A LAS CLASES DE PYTHON"
   ]
  },
  {
   "cell_type": "markdown",
   "metadata": {},
   "source": [
    "### ¿Qué es una clase?\n",
    "\n",
    "Una clases es un plano o una plantilla pra crear objetos. En Python, las clases son creadas mediante la palabra clave class.\n",
    "\n",
    "### ¿Qué características tiene una clase?\n",
    "\n",
    "- **Atributos**: Son variables que pertenecen a la clase.\n",
    "- **Métodos**: Son funciones que pertenecen a la clase.\n",
    "\n",
    "\n"
   ]
  },
  {
   "cell_type": "code",
   "execution_count": null,
   "metadata": {},
   "outputs": [],
   "source": [
    "class Perro:\n",
    "    def __init__(self, nombre, edad):\n",
    "        self.nombre = nombre\n",
    "        self.edad = edad\n",
    "        \n",
    "    def ladrar(self):\n",
    "        print(f'{self.nombre} dice guau)"
   ]
  },
  {
   "cell_type": "markdown",
   "metadata": {},
   "source": [
    "#### Crear la clase coche con los atributos marca, modelo y año"
   ]
  },
  {
   "cell_type": "code",
   "execution_count": 28,
   "metadata": {},
   "outputs": [],
   "source": [
    "class Coche:\n",
    "    def __init__(self, marca, modelo, año):\n",
    "        self.marca = marca\n",
    "        self.modelo = modelo\n",
    "        self.año = año\n",
    "    def acelerar(elf):\n",
    "        print(f'{self.marca} acelerando')\n",
    "    \n",
    "    def frenar(self):\n",
    "        print(f'{self.marca}frenando')"
   ]
  },
  {
   "cell_type": "markdown",
   "metadata": {},
   "source": [
    "#### Con la clase coche creada, añadir 3 coches con sus respectivos atributos."
   ]
  },
  {
   "cell_type": "code",
   "execution_count": 23,
   "metadata": {},
   "outputs": [],
   "source": [
    "Coche1 = Coche(\"kia\",\"sportage\",\"2023\")\n",
    "Coche2 = Coche(\"opel\",\"corsa\",\"2013\")\n",
    "Coche3 = Coche(\"nissan\",\"micra\",\"2009\")"
   ]
  },
  {
   "cell_type": "code",
   "execution_count": 29,
   "metadata": {},
   "outputs": [
    {
     "data": {
      "text/plain": [
       "'kia'"
      ]
     },
     "execution_count": 29,
     "metadata": {},
     "output_type": "execute_result"
    }
   ],
   "source": [
    "Coche1.marca"
   ]
  },
  {
   "cell_type": "markdown",
   "metadata": {},
   "source": [
    "#### Añadir a la clase principal, acelerar, frenar como funciones."
   ]
  },
  {
   "cell_type": "code",
   "execution_count": 30,
   "metadata": {},
   "outputs": [],
   "source": [
    "class Coche:\n",
    "    def __init__(self, marca, modelo, año):\n",
    "        self.marca = marca\n",
    "        self.modelo = modelo\n",
    "        self.año = año\n",
    "    def acelerar(self):\n",
    "        print(f'{self.marca} acelerando')\n",
    "    \n",
    "    def frenar(self):\n",
    "        print(f'{self.marca}frenando')"
   ]
  }
 ],
 "metadata": {
  "kernelspec": {
   "display_name": "Python 3",
   "language": "python",
   "name": "python3"
  },
  "language_info": {
   "codemirror_mode": {
    "name": "ipython",
    "version": 3
   },
   "file_extension": ".py",
   "mimetype": "text/x-python",
   "name": "python",
   "nbconvert_exporter": "python",
   "pygments_lexer": "ipython3",
   "version": "3.10.11"
  }
 },
 "nbformat": 4,
 "nbformat_minor": 2
}
